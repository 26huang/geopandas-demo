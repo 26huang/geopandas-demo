{
 "cells": [
  {
   "cell_type": "code",
   "execution_count": null,
   "id": "6a2633cf",
   "metadata": {},
   "outputs": [],
   "source": [
    "# Required dependencies:\n",
    "# numpy\n",
    "# pandas (version 0.24 or later)\n",
    "# shapely (interface to GEOS)\n",
    "# fiona (interface to GDAL)\n",
    "# pyproj (interface to PROJ; version 2.2.0 or later)\n",
    "\n",
    "# Further, optional dependencies are:\n",
    "# rtree (optional; spatial index to improve performance and required for overlay operations; interface to libspatialindex)\n",
    "# psycopg2 (optional; for PostGIS connection)\n",
    "# GeoAlchemy2 (optional; for writing to PostGIS)\n",
    "# geopy (optional; for geocoding)\n",
    "\n",
    "# For plotting, these additional packages may be used:\n",
    "# matplotlib (>= 2.2.0)\n",
    "# mapclassify (>= 2.2.0)\n",
    "\n",
    "!pip install numpy\n",
    "!pip install pandas\n",
    "!pip install shapely\n",
    "!pip install fiona\n",
    "!pip install pyproj\n",
    "!pip install geopandas"
   ]
  },
  {
   "cell_type": "code",
   "execution_count": null,
   "id": "c7ae3f49",
   "metadata": {},
   "outputs": [],
   "source": [
    "import geopandas as gpd\n",
    "import pandas as pd\n",
    "from shapely.geometry import Point, Polygon\n",
    "%matplotlib inline"
   ]
  },
  {
   "cell_type": "markdown",
   "id": "24260963",
   "metadata": {},
   "source": [
    "# Plot a shapefile"
   ]
  },
  {
   "cell_type": "code",
   "execution_count": null,
   "id": "bbab48eb",
   "metadata": {},
   "outputs": [],
   "source": [
    "import os"
   ]
  },
  {
   "cell_type": "code",
   "execution_count": null,
   "id": "e6d51b01",
   "metadata": {},
   "outputs": [],
   "source": [
    "# Shapefile extensions\n",
    "# https://desktop.arcgis.com/en/arcmap/10.3/manage-data/shapefiles/shapefile-file-extensions.htm"
   ]
  },
  {
   "cell_type": "code",
   "execution_count": null,
   "id": "d293a92b",
   "metadata": {},
   "outputs": [],
   "source": [
    "WORLD_MAP_PATH = os.path.join('.', 'Data', 'worldmap', 'World_Countries__Generalized_.shp')"
   ]
  },
  {
   "cell_type": "code",
   "execution_count": null,
   "id": "15a133cf",
   "metadata": {},
   "outputs": [],
   "source": [
    "WORLD_MAP_PATH"
   ]
  },
  {
   "cell_type": "code",
   "execution_count": null,
   "id": "8477d953",
   "metadata": {},
   "outputs": [],
   "source": [
    "world_map_gdf = gpd.read_file(WORLD_MAP_PATH)\n",
    "world_map_gdf.head()"
   ]
  },
  {
   "cell_type": "code",
   "execution_count": null,
   "id": "11bf46a9",
   "metadata": {},
   "outputs": [],
   "source": [
    "world_map_gdf.plot()"
   ]
  },
  {
   "cell_type": "code",
   "execution_count": null,
   "id": "3b61e82e",
   "metadata": {},
   "outputs": [],
   "source": [
    "# plot specific country by ISO code (filters just like pandas dataframe)\n",
    "world_map_gdf[world_map_gdf.ISO=='US'].plot()"
   ]
  },
  {
   "cell_type": "markdown",
   "id": "ba2600ff",
   "metadata": {},
   "source": [
    "# Plot latitude and longitude data"
   ]
  },
  {
   "cell_type": "code",
   "execution_count": null,
   "id": "bf32efce",
   "metadata": {},
   "outputs": [],
   "source": [
    "# Generate dummy data\n",
    "from random import randrange\n",
    "def generate_latlong(num=5):\n",
    "    long = [randrange(-180,180) for i in range(num)]\n",
    "    lat = [randrange(-90, 90) for i in range(num)]\n",
    "    return lat, long"
   ]
  },
  {
   "cell_type": "code",
   "execution_count": null,
   "id": "f53533fe",
   "metadata": {},
   "outputs": [],
   "source": [
    "import pandas as pd"
   ]
  },
  {
   "cell_type": "code",
   "execution_count": null,
   "id": "fe687768",
   "metadata": {},
   "outputs": [],
   "source": [
    "long, lat = generate_latlong(5)"
   ]
  },
  {
   "cell_type": "code",
   "execution_count": null,
   "id": "01f33678",
   "metadata": {},
   "outputs": [],
   "source": [
    "geo_data = pd.DataFrame()\n",
    "geo_data['lat'] = lat\n",
    "geo_data['long'] = long"
   ]
  },
  {
   "cell_type": "code",
   "execution_count": null,
   "id": "5d2df60b",
   "metadata": {},
   "outputs": [],
   "source": [
    "geo_data['geometry'] = geo_data.apply(lambda x: Point(x.lat, x.long), axis=1)"
   ]
  },
  {
   "cell_type": "code",
   "execution_count": null,
   "id": "9b3da057",
   "metadata": {},
   "outputs": [],
   "source": [
    "geo_data_gdf = gpd.GeoDataFrame(geo_data)\n",
    "geo_data_gdf.crs = {'init': 'epsg:4326'}"
   ]
  },
  {
   "cell_type": "code",
   "execution_count": null,
   "id": "ce01254e",
   "metadata": {},
   "outputs": [],
   "source": [
    "ax = world_map_gdf.plot()\n",
    "geo_data_gdf.plot(ax=ax, color='r')"
   ]
  },
  {
   "cell_type": "code",
   "execution_count": null,
   "id": "4feda58b",
   "metadata": {},
   "outputs": [],
   "source": []
  }
 ],
 "metadata": {
  "kernelspec": {
   "display_name": "Python 3",
   "language": "python",
   "name": "python3"
  },
  "language_info": {
   "codemirror_mode": {
    "name": "ipython",
    "version": 3
   },
   "file_extension": ".py",
   "mimetype": "text/x-python",
   "name": "python",
   "nbconvert_exporter": "python",
   "pygments_lexer": "ipython3",
   "version": "3.8.10"
  }
 },
 "nbformat": 4,
 "nbformat_minor": 5
}
