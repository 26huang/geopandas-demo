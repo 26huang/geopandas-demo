{
 "cells": [
  {
   "cell_type": "code",
   "execution_count": null,
   "id": "6a2633cf",
   "metadata": {
    "scrolled": true
   },
   "outputs": [],
   "source": [
    "# Required dependencies:\n",
    "# numpy\n",
    "# pandas (version 0.24 or later)\n",
    "# shapely (interface to GEOS)\n",
    "# fiona (interface to GDAL)\n",
    "# pyproj (interface to PROJ; version 2.2.0 or later)\n",
    "\n",
    "# Further, optional dependencies are:\n",
    "# rtree (optional; spatial index to improve performance and required for overlay operations; interface to libspatialindex)\n",
    "# psycopg2 (optional; for PostGIS connection)\n",
    "# GeoAlchemy2 (optional; for writing to PostGIS)\n",
    "# geopy (optional; for geocoding)\n",
    "\n",
    "# For plotting, these additional packages may be used:\n",
    "# matplotlib (>= 2.2.0)\n",
    "# mapclassify (>= 2.2.0)\n",
    "\n",
    "!pip install numpy\n",
    "!pip install pandas\n",
    "!pip install shapely\n",
    "!pip install fiona\n",
    "!pip install pyproj\n",
    "!pip install geopandas\n",
    "\n",
    "# Optional\n",
    "!pip install rtree"
   ]
  },
  {
   "cell_type": "code",
   "execution_count": null,
   "id": "c7ae3f49",
   "metadata": {},
   "outputs": [],
   "source": [
    "import geopandas as gpd\n",
    "import pandas as pd\n",
    "from shapely.geometry import Point, Polygon\n",
    "%matplotlib inline"
   ]
  },
  {
   "cell_type": "markdown",
   "id": "7645e83d",
   "metadata": {},
   "source": [
    "# Plot a shapefile"
   ]
  },
  {
   "cell_type": "code",
   "execution_count": null,
   "id": "7bbec687",
   "metadata": {},
   "outputs": [],
   "source": [
    "import os"
   ]
  },
  {
   "cell_type": "code",
   "execution_count": null,
   "id": "dc5319b1",
   "metadata": {},
   "outputs": [],
   "source": [
    "# Shapefile extensions\n",
    "# https://desktop.arcgis.com/en/arcmap/10.3/manage-data/shapefiles/shapefile-file-extensions.htm"
   ]
  },
  {
   "cell_type": "code",
   "execution_count": null,
   "id": "d293a92b",
   "metadata": {},
   "outputs": [],
   "source": [
    "WORLD_MAP_PATH = os.path.join('.', 'Data', 'worldmap', 'World_Countries__Generalized_.shp')"
   ]
  },
  {
   "cell_type": "code",
   "execution_count": null,
   "id": "bbff02f6",
   "metadata": {},
   "outputs": [],
   "source": [
    "WORLD_MAP_PATH"
   ]
  },
  {
   "cell_type": "code",
   "execution_count": null,
   "id": "2edae5cf",
   "metadata": {},
   "outputs": [],
   "source": [
    "world_map_gdf = gpd.read_file(WORLD_MAP_PATH)\n",
    "world_map_gdf.head()"
   ]
  },
  {
   "cell_type": "code",
   "execution_count": null,
   "id": "9aa560d2",
   "metadata": {},
   "outputs": [],
   "source": [
    "world_map_gdf.plot()"
   ]
  },
  {
   "cell_type": "code",
   "execution_count": null,
   "id": "c7fea848",
   "metadata": {},
   "outputs": [],
   "source": [
    "# plot specific country by ISO code (filters just like pandas dataframe)\n",
    "world_map_gdf[world_map_gdf.ISO=='US'].plot()"
   ]
  },
  {
   "cell_type": "markdown",
   "id": "aa40a304",
   "metadata": {},
   "source": [
    "# Plot latitude and longitude data"
   ]
  },
  {
   "cell_type": "code",
   "execution_count": null,
   "id": "5173135b",
   "metadata": {},
   "outputs": [],
   "source": [
    "# Generate dummy data\n",
    "from random import randrange\n",
    "import pandas as pd\n",
    "def generate_latlong(num=5):\n",
    "    long = [randrange(-180,180) for i in range(num)]\n",
    "    lat = [randrange(-90, 90) for i in range(num)]\n",
    "    return lat, long"
   ]
  },
  {
   "cell_type": "code",
   "execution_count": null,
   "id": "8e9e84e0",
   "metadata": {},
   "outputs": [],
   "source": [
    "long, lat = generate_latlong(5)\n",
    "geo_data = pd.DataFrame()\n",
    "geo_data['lat'] = lat\n",
    "geo_data['long'] = long\n",
    "geo_data['geometry'] = geo_data.apply(lambda x: Point(x.lat, x.long), axis=1)"
   ]
  },
  {
   "cell_type": "code",
   "execution_count": null,
   "id": "6442e747",
   "metadata": {
    "scrolled": true
   },
   "outputs": [],
   "source": [
    "geo_data_gdf = gpd.GeoDataFrame(geo_data)\n",
    "# geo_data_gdf.crs = {'init': 'epsg:4326'}\n",
    "ax = world_map_gdf.plot()\n",
    "geo_data_gdf.plot(ax=ax, color='r')"
   ]
  },
  {
   "cell_type": "markdown",
   "id": "28c8a059",
   "metadata": {},
   "source": [
    "# Map formatting"
   ]
  },
  {
   "cell_type": "code",
   "execution_count": null,
   "id": "0a68aee2",
   "metadata": {},
   "outputs": [],
   "source": [
    "# color - fills inside\n",
    "# outline - line\n",
    "ax = world_map_gdf.plot(figsize=(20,20), color='grey', edgecolor='white', linewidth=0.25)\n",
    "geo_data_gdf.plot(ax=ax, color='red', markersize=100, edgecolor='purple', linewidth=3, alpha=0.5)\n",
    "ax.axis('off')"
   ]
  },
  {
   "cell_type": "markdown",
   "id": "edc8aebc",
   "metadata": {},
   "source": [
    "# Zoom area"
   ]
  },
  {
   "cell_type": "code",
   "execution_count": null,
   "id": "c84dbe5b",
   "metadata": {},
   "outputs": [],
   "source": [
    "ax = world_map_gdf.plot(figsize=(20,20), color='grey', edgecolor='white', linewidth=0.25)\n",
    "geo_data_gdf.plot(ax=ax, color='red', markersize=100, edgecolor='purple', linewidth=3, alpha=0.5)\n",
    "ax.axis('off')\n",
    "ax.set_xlim([-130, -60])\n",
    "ax.set_ylim([20, 50])"
   ]
  },
  {
   "cell_type": "markdown",
   "id": "6b7191e6",
   "metadata": {},
   "source": [
    "# Spatial join"
   ]
  },
  {
   "cell_type": "code",
   "execution_count": null,
   "id": "3ce0c5e0",
   "metadata": {},
   "outputs": [],
   "source": [
    "long, lat = generate_latlong(20)\n",
    "geo_data = pd.DataFrame()\n",
    "geo_data['lat'] = lat\n",
    "geo_data['long'] = long\n",
    "geo_data['geometry'] = geo_data.apply(lambda x: Point(x.lat, x.long), axis=1)"
   ]
  },
  {
   "cell_type": "code",
   "execution_count": null,
   "id": "7420e8fc",
   "metadata": {},
   "outputs": [],
   "source": [
    "geo_data = gpd.GeoDataFrame(geo_data)"
   ]
  },
  {
   "cell_type": "code",
   "execution_count": null,
   "id": "3f29a062",
   "metadata": {},
   "outputs": [],
   "source": [
    "ax = world_map_gdf.plot(figsize=(20,20))\n",
    "geo_data.plot(ax=ax, color='r')"
   ]
  },
  {
   "cell_type": "code",
   "execution_count": null,
   "id": "2a24c00a",
   "metadata": {},
   "outputs": [],
   "source": [
    "# make sure crs match in order to spacial join properly\n",
    "world_map_gdf.crs"
   ]
  },
  {
   "cell_type": "code",
   "execution_count": null,
   "id": "cdc10dd1",
   "metadata": {},
   "outputs": [],
   "source": [
    "geo_data.crs = {'init': 'epsg:4326'}\n",
    "# (world_map_gdf.crs, inplace=True)"
   ]
  },
  {
   "cell_type": "code",
   "execution_count": null,
   "id": "d87418da",
   "metadata": {},
   "outputs": [],
   "source": [
    "# the order of sjoin data matters. Keep all geo_data points that are inside of world_map_gdf geometry shapes\n",
    "world_map_with_dot = gpd.sjoin(geo_data, world_map_gdf, how='inner', op='within')\n",
    "world_map_with_dot.head()"
   ]
  },
  {
   "cell_type": "code",
   "execution_count": null,
   "id": "609a0ebf",
   "metadata": {
    "scrolled": true
   },
   "outputs": [],
   "source": [
    "ax = world_map_gdf.plot(figsize=(20,20))\n",
    "world_map_with_dot.plot(ax=ax, color='r')"
   ]
  },
  {
   "cell_type": "code",
   "execution_count": null,
   "id": "4c07f611",
   "metadata": {},
   "outputs": [],
   "source": [
    "world_map_with_dot.COUNTRY.value_counts()"
   ]
  },
  {
   "cell_type": "code",
   "execution_count": null,
   "id": "7e0320a1",
   "metadata": {},
   "outputs": [],
   "source": []
  }
 ],
 "metadata": {
  "kernelspec": {
   "display_name": "Python 3",
   "language": "python",
   "name": "python3"
  },
  "language_info": {
   "codemirror_mode": {
    "name": "ipython",
    "version": 3
   },
   "file_extension": ".py",
   "mimetype": "text/x-python",
   "name": "python",
   "nbconvert_exporter": "python",
   "pygments_lexer": "ipython3",
   "version": "3.8.10"
  }
 },
 "nbformat": 4,
 "nbformat_minor": 5
}
